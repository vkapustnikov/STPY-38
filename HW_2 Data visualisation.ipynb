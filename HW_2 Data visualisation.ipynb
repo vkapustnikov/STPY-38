{
 "cells": [
  {
   "cell_type": "code",
   "execution_count": null,
   "metadata": {},
   "outputs": [],
   "source": [
    "import pandas as pd\n",
    "import matplotlib.pyplot as plt"
   ]
  },
  {
   "cell_type": "code",
   "execution_count": null,
   "metadata": {},
   "outputs": [],
   "source": [
    "from pylab import rcParams\n",
    "rcParams['figure.figsize'] = 11,9"
   ]
  },
  {
   "cell_type": "markdown",
   "metadata": {},
   "source": [
    "# Домашнее задание к лекции \"Визуализация данных\""
   ]
  },
  {
   "cell_type": "markdown",
   "metadata": {},
   "source": [
    "## Обязательная часть\n",
    "\n",
    "Вам необходимо провести базовый [EDA](https://en.wikipedia.org/wiki/Exploratory_data_analysis) выбранного набора данных. \n",
    "\n",
    "Требования к анализу:\n",
    "- построить не менее 4 визуализаций различных видов;\n",
    "- каждая визуализация должным образом оформлена и читается даже в отрыве от контекста; \n",
    "- по каждой визуализации необходимо написать вывод (какую гипотезу на ее основе можно выдвинуть?).\n",
    "\n",
    "**Откуда брать данные?**\n",
    "\n",
    "Можете взять свои рабочие данные, либо найти открытые данные (например, на [kaggle.com](https://www.kaggle.com/)) по интересующей вас предметной области (тогда не забудьте приложить ссылку на данные). Если идей нет, можете взять один из перечисленных ниже:\n",
    "- [данные приложений из Google Play](https://www.kaggle.com/lava18/google-play-store-apps);\n",
    "- [данные о видео из трендов YouTube](https://www.kaggle.com/datasnaek/youtube-new);\n",
    "- [данные об уровне счастья в разных странах](https://www.kaggle.com/unsdsn/world-happiness).\n"
   ]
  },
  {
   "cell_type": "markdown",
   "metadata": {},
   "source": [
    "### Дополнительная часть (необязательная)\n",
    "\n",
    "* построить дополнительно не менее 2 визуализаций (итого не менее 6);\n",
    "* в работе должны присутствовать следующие визуализации: boxplot, heatmap, scatter plot matrix;\n"
   ]
  },
  {
   "cell_type": "code",
   "execution_count": null,
   "metadata": {},
   "outputs": [],
   "source": [
    "df = pd.read_csv('./hw_2/electric')\n",
    "df.head()"
   ]
  },
  {
   "cell_type": "code",
   "execution_count": null,
   "metadata": {},
   "outputs": [],
   "source": [
    "df.info()"
   ]
  },
  {
   "cell_type": "code",
   "execution_count": null,
   "metadata": {},
   "outputs": [],
   "source": [
    "# График 1 - продажи электромобилей по годам\n",
    "sales_by_year = df[['Model Year', 'VIN (1-10)']][(df['Model Year']>=2011) & (df['Model Year']<=2022)].groupby('Model Year').count()\n",
    "sales_by_year.plot(\n",
    "    kind='bar',\n",
    "    xlabel='Model Year',\n",
    "    ylabel='Vin (1-10)',\n",
    "    title='Sales by year'\n",
    ")\n",
    "plt.legend(loc=('upper left'))\n",
    "for i, val in enumerate(sales_by_year.values):\n",
    "    plt.text(i, val, int(val), horizontalalignment='center', verticalalignment='bottom', fontdict={'size':12})"
   ]
  },
  {
   "cell_type": "code",
   "execution_count": null,
   "metadata": {},
   "outputs": [],
   "source": [
    "# Количество продаваемых в США электромобилей растёт с 2011 года."
   ]
  },
  {
   "cell_type": "code",
   "execution_count": null,
   "metadata": {},
   "outputs": [],
   "source": [
    "# График 2 - карта продаж по штатам\n",
    "# !Т.к. исходные данные \"кривые\", подавляющее большинство а/м продано в штате Washington, то для целей тренировки эти данные решил исключить\n",
    "import folium\n",
    "m = folium.Map(location=[40, -95], zoom_start=4) # initialize the map and store it in a m object\n",
    "url = (\n",
    "    \"https://raw.githubusercontent.com/python-visualization/folium/master/examples/data\"\n",
    ")\n",
    "state_geo = f\"{url}/us-states.json\" # загрузка занных по штатам\n",
    "sales_by_state = df[['State', 'Model Year', 'VIN (1-10)']][(df['Model Year']>=2011) & (df['Model Year']<=2022) & (df['State']!='WA')].groupby(['State', 'Model Year']).count().reset_index() # датафрейм по продажам\n",
    "folium.Choropleth(\n",
    "    geo_data=state_geo,\n",
    "    name=\"choropleth\",\n",
    "    data=sales_by_state,\n",
    "    columns=[\"State\", \"VIN (1-10)\"],\n",
    "    key_on=\"feature.id\",\n",
    "    fill_color=\"YlGn\",\n",
    "    fill_opacity=0.7,\n",
    "    line_opacity=.1,\n",
    "    legend_name=\"Unemployment Rate (%)\",\n",
    ").add_to(m)\n",
    "folium.LayerControl().add_to(m)\n",
    "m"
   ]
  },
  {
   "cell_type": "code",
   "execution_count": null,
   "metadata": {},
   "outputs": [],
   "source": [
    "# Электроавтомобили продаются, в основном, в Калифорнии (CA) и Вашингтоне (DC), т.е. в столичном штате на восточном побережье и самом богатом штате на западном. \n",
    "# В остальных штатах продажи электроавтомобилей распределены равномерно.\n",
    "# ! Помним о том, что для наглядности данные были модифицированы вручную."
   ]
  },
  {
   "cell_type": "code",
   "execution_count": null,
   "metadata": {},
   "outputs": [],
   "source": [
    "# График 3 - распределение по брендам по годам\n",
    "import seaborn as sns\n",
    "import numpy as np\n",
    "sales_by_brand_by_year = df[['Make', 'Model Year', 'VIN (1-10)']][(df['Model Year']>=2011) & (df['Model Year']<=2022)].groupby(['Make', 'Model Year']).count().reset_index()\n",
    "sales_by_brand_by_year = sales_by_brand_by_year.pivot_table(\n",
    "    index='Make', columns='Model Year', values='VIN (1-10)', margins=True, aggfunc='sum').sort_values('All', ascending=False).drop('All').drop(columns='All').head(10)\n",
    "sns.heatmap(sales_by_brand_by_year, cmap='flare', annot=True, fmt=\".0f\")"
   ]
  },
  {
   "cell_type": "code",
   "execution_count": null,
   "metadata": {},
   "outputs": [],
   "source": [
    "# График 4 - какие бренды из топ-10 сколько продали электроавтомобилей по годам. Как видно, абсолютный либер в последние 5 лет - тесла\n",
    "sales_tesla_by_model = df[['Model']][df['Make']=='TESLA'].value_counts()\n",
    "sales_tesla_by_model.plot(\n",
    "    kind='pie'\n",
    "    # xlabel='Model Year',\n",
    "    # ylabel='Model',\n",
    "    # title='Sales by year'\n",
    ")"
   ]
  },
  {
   "cell_type": "code",
   "execution_count": null,
   "metadata": {},
   "outputs": [],
   "source": [
    "# какая структура моделей в продажах Тесла? Основные продажи приходятся на две модели Model 3 и Model Y."
   ]
  }
 ],
 "metadata": {
  "kernelspec": {
   "display_name": "Python 3",
   "language": "python",
   "name": "python3"
  },
  "language_info": {
   "codemirror_mode": {
    "name": "ipython",
    "version": 3
   },
   "file_extension": ".py",
   "mimetype": "text/x-python",
   "name": "python",
   "nbconvert_exporter": "python",
   "pygments_lexer": "ipython3",
   "version": "3.10.6 (main, Nov 14 2022, 16:10:14) [GCC 11.3.0]"
  },
  "vscode": {
   "interpreter": {
    "hash": "916dbcbb3f70747c44a77c7bcd40155683ae19c65e1c03b4aa3499c5328201f1"
   }
  }
 },
 "nbformat": 4,
 "nbformat_minor": 2
}
