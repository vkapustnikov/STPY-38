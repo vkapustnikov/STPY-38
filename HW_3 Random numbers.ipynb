{
 "cells": [
  {
   "cell_type": "code",
   "execution_count": 2,
   "metadata": {},
   "outputs": [],
   "source": [
    "import numpy as np"
   ]
  },
  {
   "cell_type": "code",
   "execution_count": null,
   "metadata": {},
   "outputs": [],
   "source": [
    "# Смоделировать игру против лотерейного автомата типа \"777\". Игрок платит 1 руб., после чего выпадает случайное целое число, равномерно распределенное\n",
    "# от 0 до 999. При некоторых значениях числа игрок получает выигрыш (см. справа)\n",
    "    # 777: 200 руб.\n",
    "    # 999: 100 руб.\n",
    "    # 555: 50 руб.\n",
    "    # 333: 15 руб.\n",
    "    # 111: 10 руб.\n",
    "    # *77: 5 руб.\n",
    "    # **7: 3 руб.\n",
    "    # *00: 2 руб.\n",
    "    # **0: 1 руб.\n",
    "# ● Выгодна ли игра игроку?\n",
    "# ● Сколько в среднем приобретает или теряет игрок за одну игру?\n",
    "\n",
    "# Дополнительное задание повышенной сложности. Теоретически рассчитать средний выигрыш (проигрыш) и сравнить с результатами моделирования."
   ]
  },
  {
   "cell_type": "code",
   "execution_count": 315,
   "metadata": {},
   "outputs": [
    {
     "name": "stdout",
     "output_type": "stream",
     "text": [
      "win count: 208\n",
      "loss count: 792\n",
      "win sum: 785\n",
      "loss sum: 792\n",
      "diff sum: -7\n",
      "average win/loss: -0.0\n",
      "P Monte-Carlo: 0.208\n"
     ]
    }
   ],
   "source": [
    "# решение\n",
    "games = 1000\n",
    "winlist = {777: 200, 999: 100, 555: 50, 333: 15, 111: 10, '77': 5, '7': 3, '00': 2, '0': 1}\n",
    "win = []\n",
    "loss = []\n",
    "\n",
    "for g in range(games):\n",
    "    out = np.random.randint(0,1000)\n",
    "    if out in winlist.keys():\n",
    "        win.append(winlist[out])\n",
    "    elif str(out)[-2:] in winlist.keys():\n",
    "        win.append(winlist[str(out)[-2:]])\n",
    "    elif str(out)[-1] in winlist.keys():\n",
    "        win.append(winlist[str(out)[-1:]])\n",
    "    else:\n",
    "        loss.append(1)\n",
    "print(\n",
    "    f\"win count: {len(win)}\\nloss count: {len(loss)}\\nwin sum: {sum(win)}\\nloss sum: {sum(loss)}\\ndiff sum: {sum(win)-sum(loss)}\\n\"\n",
    "    f\"average win/loss: {round((sum(win)-sum(loss))/games,1)}\\nP Monte-Carlo: {len(win)/(len(win)+len(loss))}\"\n",
    "    )"
   ]
  },
  {
   "cell_type": "code",
   "execution_count": 321,
   "metadata": {},
   "outputs": [
    {
     "name": "stdout",
     "output_type": "stream",
     "text": [
      "777\n",
      "999\n",
      "555\n",
      "333\n",
      "111\n",
      "7\n",
      "17\n",
      "27\n",
      "37\n",
      "47\n",
      "57\n",
      "67\n",
      "77\n",
      "87\n",
      "97\n",
      "107\n",
      "117\n",
      "127\n",
      "137\n",
      "147\n",
      "157\n",
      "167\n",
      "177\n",
      "187\n",
      "197\n",
      "207\n",
      "217\n",
      "227\n",
      "237\n",
      "247\n",
      "257\n",
      "267\n",
      "277\n",
      "287\n",
      "297\n",
      "307\n",
      "317\n",
      "327\n",
      "337\n",
      "347\n",
      "357\n",
      "367\n",
      "377\n",
      "387\n",
      "397\n",
      "407\n",
      "417\n",
      "427\n",
      "437\n",
      "447\n",
      "457\n",
      "467\n",
      "477\n",
      "487\n",
      "497\n",
      "507\n",
      "517\n",
      "527\n",
      "537\n",
      "547\n",
      "557\n",
      "567\n",
      "577\n",
      "587\n",
      "597\n",
      "607\n",
      "617\n",
      "627\n",
      "637\n",
      "647\n",
      "657\n",
      "667\n",
      "677\n",
      "687\n",
      "697\n",
      "707\n",
      "717\n",
      "727\n",
      "737\n",
      "747\n",
      "757\n",
      "767\n",
      "777\n",
      "787\n",
      "797\n",
      "807\n",
      "817\n",
      "827\n",
      "837\n",
      "847\n",
      "857\n",
      "867\n",
      "877\n",
      "887\n",
      "897\n",
      "907\n",
      "917\n",
      "927\n",
      "937\n",
      "947\n",
      "957\n",
      "967\n",
      "977\n",
      "987\n",
      "997\n",
      "0\n",
      "10\n",
      "20\n",
      "30\n",
      "40\n",
      "50\n",
      "60\n",
      "70\n",
      "80\n",
      "90\n",
      "100\n",
      "110\n",
      "120\n",
      "130\n",
      "140\n",
      "150\n",
      "160\n",
      "170\n",
      "180\n",
      "190\n",
      "200\n",
      "210\n",
      "220\n",
      "230\n",
      "240\n",
      "250\n",
      "260\n",
      "270\n",
      "280\n",
      "290\n",
      "300\n",
      "310\n",
      "320\n",
      "330\n",
      "340\n",
      "350\n",
      "360\n",
      "370\n",
      "380\n",
      "390\n",
      "400\n",
      "410\n",
      "420\n",
      "430\n",
      "440\n",
      "450\n",
      "460\n",
      "470\n",
      "480\n",
      "490\n",
      "500\n",
      "510\n",
      "520\n",
      "530\n",
      "540\n",
      "550\n",
      "560\n",
      "570\n",
      "580\n",
      "590\n",
      "600\n",
      "610\n",
      "620\n",
      "630\n",
      "640\n",
      "650\n",
      "660\n",
      "670\n",
      "680\n",
      "690\n",
      "700\n",
      "710\n",
      "720\n",
      "730\n",
      "740\n",
      "750\n",
      "760\n",
      "770\n",
      "780\n",
      "790\n",
      "800\n",
      "810\n",
      "820\n",
      "830\n",
      "840\n",
      "850\n",
      "860\n",
      "870\n",
      "880\n",
      "890\n",
      "900\n",
      "910\n",
      "920\n",
      "930\n",
      "940\n",
      "950\n",
      "960\n",
      "970\n",
      "980\n",
      "990\n"
     ]
    }
   ],
   "source": [
    "winposs = range(0,1000)\n",
    "# winlist = {777: 200, 999: 100, 555: 50, 333: 15, 111: 10, 77: 5, 7: 3, '00': 2, '0': 1}\n",
    "winlist = {777: 200, 999: 100, 555: 50, 333: 15, 111: 10, '77': 5, '7': 3, '00': 2, '0': 1}\n",
    "poss = []\n",
    "for q in winlist.keys():\n",
    "    for w in winposs:\n",
    "        if q == str(w)[-1:]: # все комбинации, оканчивающиеся на 0, 00, 7 и 77\n",
    "            print(w)\n",
    "        if q == w:\n",
    "            print(w)"
   ]
  },
  {
   "cell_type": "code",
   "execution_count": 121,
   "metadata": {},
   "outputs": [
    {
     "data": {
      "text/plain": [
       "37"
      ]
     },
     "execution_count": 121,
     "metadata": {},
     "output_type": "execute_result"
    }
   ],
   "source": [
    "out = 377\n",
    "int(str(out)[-3:-1])"
   ]
  },
  {
   "cell_type": "code",
   "execution_count": 125,
   "metadata": {},
   "outputs": [
    {
     "name": "stdout",
     "output_type": "stream",
     "text": [
      "[5] [] 5 1\n",
      "[5, 3] [] 8 2\n",
      "[5, 3] [1] 8 2\n",
      "[5, 3, 2] [1] 10 3\n",
      "[5, 3, 2, 1] [1] 11 4\n"
     ]
    }
   ],
   "source": [
    "winlist = {777: 200, 999: 100, 555: 50, 333: 15, 111: 10, 77: 5, 7: 3, '00': 2, '0': 1}\n",
    "win = []\n",
    "loss = []\n",
    "outl = [77, 7, 0, '00', '0']\n",
    "for out in outl:\n",
    "    if out in winlist.keys():\n",
    "        win.append(winlist[out])\n",
    "    elif str(out)[-2:] in winlist.keys():\n",
    "        loss.append(winlist[str(out)[-2:]])\n",
    "    elif str(out)[-1] in winlist.keys():\n",
    "        loss.append(winlist[str(out)[-1:]])\n",
    "    print(win, loss, sum(win), len(win))"
   ]
  },
  {
   "cell_type": "code",
   "execution_count": 109,
   "metadata": {},
   "outputs": [
    {
     "data": {
      "text/plain": [
       "False"
      ]
     },
     "execution_count": 109,
     "metadata": {},
     "output_type": "execute_result"
    }
   ],
   "source": [
    "# out = np.random.randint(0,1000)\n",
    "list_ = [1,2,3]\n",
    "out = 4\n",
    "out in list_\n",
    "# int(str(out)[-1])%7 == 0\n",
    "# n = 47\n",
    "# int(str(n)[1])%7"
   ]
  },
  {
   "cell_type": "code",
   "execution_count": 10,
   "metadata": {},
   "outputs": [
    {
     "data": {
      "text/plain": [
       "array([4.98591798, 3.54001759, 1.52848284, 4.57884003, 2.71319675])"
      ]
     },
     "execution_count": 10,
     "metadata": {},
     "output_type": "execute_result"
    }
   ],
   "source": [
    "# тренировка\n",
    "# np.random.randint(1,5,2)\n",
    "# np.random.random(5)\n",
    "# np.random.uniform(1,5,5)"
   ]
  }
 ],
 "metadata": {
  "kernelspec": {
   "display_name": "Python 3",
   "language": "python",
   "name": "python3"
  },
  "language_info": {
   "codemirror_mode": {
    "name": "ipython",
    "version": 3
   },
   "file_extension": ".py",
   "mimetype": "text/x-python",
   "name": "python",
   "nbconvert_exporter": "python",
   "pygments_lexer": "ipython3",
   "version": "3.10.6"
  },
  "orig_nbformat": 4,
  "vscode": {
   "interpreter": {
    "hash": "31f2aee4e71d21fbe5cf8b01ff0e069b9275f58929596ceb00d14d90e3e16cd6"
   }
  }
 },
 "nbformat": 4,
 "nbformat_minor": 2
}
